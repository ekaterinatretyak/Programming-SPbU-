{
 "cells": [
  {
   "cell_type": "markdown",
   "metadata": {},
   "source": [
    "## Test classification with Scikit-learn library. Visualization and Analysis</b>"
   ]
  },
  {
   "cell_type": "code",
   "execution_count": 15,
   "metadata": {},
   "outputs": [],
   "source": [
    "import os\n",
    "import csv\n",
    "import re\n",
    "import codecs\n",
    "import nltk.corpus\n",
    "\n",
    "# Data analytics\n",
    "import numpy  as np\n",
    "import pandas as pd\n",
    "import csv\n",
    "import sys, csv, ctypes as ct\n",
    "\n",
    "import nltk\n",
    "from nltk.tokenize                    import word_tokenize\n",
    "from nltk                             import SnowballStemmer\n",
    "from nltk.corpus import stopwords\n",
    "from pymystem3 import Mystem\n",
    "\n",
    "# Sklearn clustering methods\n",
    "from nltk.stem import WordNetLemmatizer\n",
    "from sklearn.preprocessing import LabelEncoder\n",
    "from nltk.corpus import wordnet as wn\n",
    "from sklearn.feature_extraction.text import TfidfVectorizer\n",
    "from sklearn.feature_extraction.text import CountVectorizer\n",
    "from sklearn.feature_extraction.text import TfidfTransformer\n",
    "from sklearn import model_selection, naive_bayes, svm # Import naiveBayes and svm classifier\n",
    "from sklearn.tree import DecisionTreeClassifier # Import Decision Tree Classifier\n",
    "from sklearn.neighbors import KNeighborsClassifier # Import Kneigbors Classifier\n",
    "from sklearn.neighbors.nearest_centroid import NearestCentroid\n",
    "from sklearn.pipeline import Pipeline\n",
    "from sklearn import metrics\n",
    "from sklearn.metrics import accuracy_score # For accuracy score estimation\n",
    "\n",
    "# Visualization\n",
    "import matplotlib as mpl\n",
    "from matplotlib import pyplot as plt\n",
    "from sklearn.datasets import load_breast_cancer\n",
    "from sklearn.metrics import confusion_matrix\n",
    "from sklearn.neighbors import KNeighborsClassifier\n",
    "from sklearn.model_selection import train_test_split\n",
    "import seaborn as sns"
   ]
  },
  {
   "cell_type": "code",
   "execution_count": 16,
   "metadata": {},
   "outputs": [
    {
     "name": "stdout",
     "output_type": "stream",
     "text": [
      "win32 9223372036854775807\n",
      "2147483647\n"
     ]
    },
    {
     "data": {
      "text/plain": [
       "2147483647"
      ]
     },
     "execution_count": 16,
     "metadata": {},
     "output_type": "execute_result"
    }
   ],
   "source": [
    "# To be able to analyze csv files with huge fields, we should maximize the field size\n",
    "print(sys.platform, sys.maxsize)\n",
    "print(csv.field_size_limit())\n",
    "csv.field_size_limit(int(ct.c_ulong(-1).value // 2))\n",
    "limit1 = csv.field_size_limit()\n",
    "limit1"
   ]
  },
  {
   "cell_type": "code",
   "execution_count": 17,
   "metadata": {},
   "outputs": [
    {
     "name": "stdout",
     "output_type": "stream",
     "text": [
      "231\n"
     ]
    }
   ],
   "source": [
    "PATH = \"Общий корпус. Бакал. 4 курс\"\n",
    "list_of_files = os.listdir(PATH)\n",
    "res = []\n",
    "\n",
    "with open('data_for_classification.csv', 'w', newline='', encoding=\"UTf-8\", errors='ignore') as csv_file:\n",
    "    csv_writer = csv.writer(csv_file, delimiter = ';')\n",
    "    num_docs = 0\n",
    "    for name in list_of_files:\n",
    "        num_docs += 1\n",
    "        with open(PATH + \"\\\\\" + name, 'r', encoding=\"UTF-8\", errors='ignore') as file:\n",
    "            result = file.read().replace('\\n', '')\n",
    "            file_class = str(name.split('_')[0])\n",
    "            csv_writer.writerow([num_docs, result, name, file_class])\n",
    "print(num_docs)"
   ]
  },
  {
   "cell_type": "code",
   "execution_count": 18,
   "metadata": {},
   "outputs": [
    {
     "data": {
      "text/html": [
       "<div>\n",
       "<style scoped>\n",
       "    .dataframe tbody tr th:only-of-type {\n",
       "        vertical-align: middle;\n",
       "    }\n",
       "\n",
       "    .dataframe tbody tr th {\n",
       "        vertical-align: top;\n",
       "    }\n",
       "\n",
       "    .dataframe thead th {\n",
       "        text-align: right;\n",
       "    }\n",
       "</style>\n",
       "<table border=\"1\" class=\"dataframe\">\n",
       "  <thead>\n",
       "    <tr style=\"text-align: right;\">\n",
       "      <th></th>\n",
       "      <th>Number</th>\n",
       "      <th>Text</th>\n",
       "      <th>FileName</th>\n",
       "      <th>Label</th>\n",
       "    </tr>\n",
       "  </thead>\n",
       "  <tbody>\n",
       "    <tr>\n",
       "      <th>0</th>\n",
       "      <td>1</td>\n",
       "      <td>\"В Петербурге возобновили плановую вакцинацию ...</td>\n",
       "      <td>bumaga_1.txt</td>\n",
       "      <td>bumaga</td>\n",
       "    </tr>\n",
       "    <tr>\n",
       "      <th>1</th>\n",
       "      <td>2</td>\n",
       "      <td>Там добавили, что пока смерть пациента с корон...</td>\n",
       "      <td>bumaga_10.txt</td>\n",
       "      <td>bumaga</td>\n",
       "    </tr>\n",
       "    <tr>\n",
       "      <th>2</th>\n",
       "      <td>3</td>\n",
       "      <td>нарушения в период режима повышенной готовност...</td>\n",
       "      <td>bumaga_11.txt</td>\n",
       "      <td>bumaga</td>\n",
       "    </tr>\n",
       "    <tr>\n",
       "      <th>3</th>\n",
       "      <td>4</td>\n",
       "      <td>комментировать «Бумаге» информацию о том, пров...</td>\n",
       "      <td>bumaga_12.txt</td>\n",
       "      <td>bumaga</td>\n",
       "    </tr>\n",
       "    <tr>\n",
       "      <th>4</th>\n",
       "      <td>5</td>\n",
       "      <td>Москве выявлено новых заражений в Московской о...</td>\n",
       "      <td>bumaga_13.txt</td>\n",
       "      <td>bumaga</td>\n",
       "    </tr>\n",
       "  </tbody>\n",
       "</table>\n",
       "</div>"
      ],
      "text/plain": [
       "   Number                                               Text       FileName  \\\n",
       "0       1  \"В Петербурге возобновили плановую вакцинацию ...   bumaga_1.txt   \n",
       "1       2  Там добавили, что пока смерть пациента с корон...  bumaga_10.txt   \n",
       "2       3  нарушения в период режима повышенной готовност...  bumaga_11.txt   \n",
       "3       4  комментировать «Бумаге» информацию о том, пров...  bumaga_12.txt   \n",
       "4       5  Москве выявлено новых заражений в Московской о...  bumaga_13.txt   \n",
       "\n",
       "    Label  \n",
       "0  bumaga  \n",
       "1  bumaga  \n",
       "2  bumaga  \n",
       "3  bumaga  \n",
       "4  bumaga  "
      ]
     },
     "execution_count": 18,
     "metadata": {},
     "output_type": "execute_result"
    }
   ],
   "source": [
    "df = pd.read_csv('data_for_classification.csv', sep=';', header=None, engine='python', error_bad_lines=False, encoding=\"utf-8\")\n",
    "df.to_csv('data_for_classification.csv', sep = ';', header=[\"Number\", \"Text\", \"FileName\", \"Label\"], index=False)\n",
    "data = pd.read_csv('data_for_classification.csv', sep=\";\", engine='python', encoding=\"UTF-8\")\n",
    "data.set_index('Number')\n",
    "data.head()"
   ]
  },
  {
   "cell_type": "code",
   "execution_count": 19,
   "metadata": {},
   "outputs": [],
   "source": [
    "def processCorpus(corpus, language):\n",
    "    mystem = Mystem() \n",
    "    param_stemmer = SnowballStemmer(language)\n",
    "    stopwords = nltk.corpus.stopwords.words(language)\n",
    "    final_words = []\n",
    "    \n",
    "    corpus[\"Text_final\"] = [entry.lower() for entry in corpus['Text']]\n",
    "    corpus[\"Text_final\"]= [word_tokenize(entry) for entry in corpus[\"Text_final\"]]\n",
    "    \n",
    "    for index, entry in enumerate(corpus.Text_final):\n",
    "        final_words = []\n",
    "        word_lemmatized = WordNetLemmatizer()\n",
    "        \n",
    "        #final_words = [word for word in entry if word.isalpha() and word not in stopwords]\n",
    "        for word in entry:\n",
    "            if word not in stopwords and word.isalpha():\n",
    "                #word_final = mystem.lemmatize(word)\n",
    "                #word_final = param_stemmer.stem(word)\n",
    "                final_words.append(word)\n",
    "                corpus.loc[(corpus['Number'] == index+1), \"Text_final\"] = \" \".join(final_words)\n",
    "                \n",
    "    return corpus"
   ]
  },
  {
   "cell_type": "code",
   "execution_count": 20,
   "metadata": {},
   "outputs": [],
   "source": [
    "language = 'russian'\n",
    "data = processCorpus(data, language)"
   ]
  },
  {
   "cell_type": "code",
   "execution_count": 21,
   "metadata": {},
   "outputs": [
    {
     "data": {
      "text/html": [
       "<div>\n",
       "<style scoped>\n",
       "    .dataframe tbody tr th:only-of-type {\n",
       "        vertical-align: middle;\n",
       "    }\n",
       "\n",
       "    .dataframe tbody tr th {\n",
       "        vertical-align: top;\n",
       "    }\n",
       "\n",
       "    .dataframe thead th {\n",
       "        text-align: right;\n",
       "    }\n",
       "</style>\n",
       "<table border=\"1\" class=\"dataframe\">\n",
       "  <thead>\n",
       "    <tr style=\"text-align: right;\">\n",
       "      <th></th>\n",
       "      <th>Number</th>\n",
       "      <th>Text</th>\n",
       "      <th>FileName</th>\n",
       "      <th>Label</th>\n",
       "      <th>Text_final</th>\n",
       "    </tr>\n",
       "  </thead>\n",
       "  <tbody>\n",
       "    <tr>\n",
       "      <th>0</th>\n",
       "      <td>1</td>\n",
       "      <td>\"В Петербурге возобновили плановую вакцинацию ...</td>\n",
       "      <td>bumaga_1.txt</td>\n",
       "      <td>bumaga</td>\n",
       "      <td>петербурге возобновили плановую вакцинацию дет...</td>\n",
       "    </tr>\n",
       "    <tr>\n",
       "      <th>1</th>\n",
       "      <td>2</td>\n",
       "      <td>Там добавили, что пока смерть пациента с корон...</td>\n",
       "      <td>bumaga_10.txt</td>\n",
       "      <td>bumaga</td>\n",
       "      <td>добавили пока смерть пациента коронавирусом бо...</td>\n",
       "    </tr>\n",
       "    <tr>\n",
       "      <th>2</th>\n",
       "      <td>3</td>\n",
       "      <td>нарушения в период режима повышенной готовност...</td>\n",
       "      <td>bumaga_11.txt</td>\n",
       "      <td>bumaga</td>\n",
       "      <td>нарушения период режима повышенной готовности ...</td>\n",
       "    </tr>\n",
       "    <tr>\n",
       "      <th>3</th>\n",
       "      <td>4</td>\n",
       "      <td>комментировать «Бумаге» информацию о том, пров...</td>\n",
       "      <td>bumaga_12.txt</td>\n",
       "      <td>bumaga</td>\n",
       "      <td>комментировать бумаге информацию проводятся ку...</td>\n",
       "    </tr>\n",
       "    <tr>\n",
       "      <th>4</th>\n",
       "      <td>5</td>\n",
       "      <td>Москве выявлено новых заражений в Московской о...</td>\n",
       "      <td>bumaga_13.txt</td>\n",
       "      <td>bumaga</td>\n",
       "      <td>москве выявлено новых заражений московской обл...</td>\n",
       "    </tr>\n",
       "    <tr>\n",
       "      <th>5</th>\n",
       "      <td>6</td>\n",
       "      <td>решили ограничить въезд и выезд в населенные п...</td>\n",
       "      <td>bumaga_14.txt</td>\n",
       "      <td>bumaga</td>\n",
       "      <td>решили ограничить въезд выезд населенные пункт...</td>\n",
       "    </tr>\n",
       "    <tr>\n",
       "      <th>6</th>\n",
       "      <td>7</td>\n",
       "      <td>года Оперативный штаб по противодействию распр...</td>\n",
       "      <td>bumaga_15.txt</td>\n",
       "      <td>bumaga</td>\n",
       "      <td>года оперативный штаб противодействию распрост...</td>\n",
       "    </tr>\n",
       "    <tr>\n",
       "      <th>7</th>\n",
       "      <td>8</td>\n",
       "      <td>привозят продуктовые наборы которые состоят из...</td>\n",
       "      <td>bumaga_16.txt</td>\n",
       "      <td>bumaga</td>\n",
       "      <td>привозят продуктовые наборы которые состоят па...</td>\n",
       "    </tr>\n",
       "    <tr>\n",
       "      <th>8</th>\n",
       "      <td>9</td>\n",
       "      <td>наказания историка Сергея Колтырина осужденног...</td>\n",
       "      <td>bumaga_17.txt</td>\n",
       "      <td>bumaga</td>\n",
       "      <td>наказания историка сергея колтырина осужденног...</td>\n",
       "    </tr>\n",
       "    <tr>\n",
       "      <th>9</th>\n",
       "      <td>10</td>\n",
       "      <td>проблемы мира на нашей планетеВ году разрабаты...</td>\n",
       "      <td>bumaga_18.txt</td>\n",
       "      <td>bumaga</td>\n",
       "      <td>проблемы мира нашей планетев году разрабатывае...</td>\n",
       "    </tr>\n",
       "  </tbody>\n",
       "</table>\n",
       "</div>"
      ],
      "text/plain": [
       "   Number                                               Text       FileName  \\\n",
       "0       1  \"В Петербурге возобновили плановую вакцинацию ...   bumaga_1.txt   \n",
       "1       2  Там добавили, что пока смерть пациента с корон...  bumaga_10.txt   \n",
       "2       3  нарушения в период режима повышенной готовност...  bumaga_11.txt   \n",
       "3       4  комментировать «Бумаге» информацию о том, пров...  bumaga_12.txt   \n",
       "4       5  Москве выявлено новых заражений в Московской о...  bumaga_13.txt   \n",
       "5       6  решили ограничить въезд и выезд в населенные п...  bumaga_14.txt   \n",
       "6       7  года Оперативный штаб по противодействию распр...  bumaga_15.txt   \n",
       "7       8  привозят продуктовые наборы которые состоят из...  bumaga_16.txt   \n",
       "8       9  наказания историка Сергея Колтырина осужденног...  bumaga_17.txt   \n",
       "9      10  проблемы мира на нашей планетеВ году разрабаты...  bumaga_18.txt   \n",
       "\n",
       "    Label                                         Text_final  \n",
       "0  bumaga  петербурге возобновили плановую вакцинацию дет...  \n",
       "1  bumaga  добавили пока смерть пациента коронавирусом бо...  \n",
       "2  bumaga  нарушения период режима повышенной готовности ...  \n",
       "3  bumaga  комментировать бумаге информацию проводятся ку...  \n",
       "4  bumaga  москве выявлено новых заражений московской обл...  \n",
       "5  bumaga  решили ограничить въезд выезд населенные пункт...  \n",
       "6  bumaga  года оперативный штаб противодействию распрост...  \n",
       "7  bumaga  привозят продуктовые наборы которые состоят па...  \n",
       "8  bumaga  наказания историка сергея колтырина осужденног...  \n",
       "9  bumaga  проблемы мира нашей планетев году разрабатывае...  "
      ]
     },
     "execution_count": 21,
     "metadata": {},
     "output_type": "execute_result"
    }
   ],
   "source": [
    "data[:10]"
   ]
  },
  {
   "cell_type": "code",
   "execution_count": 22,
   "metadata": {},
   "outputs": [],
   "source": [
    "Train_X, Test_X, Train_Y, Test_Y = model_selection.train_test_split(data['Text_final'], data['Label'],test_size=0.6)"
   ]
  },
  {
   "cell_type": "code",
   "execution_count": 23,
   "metadata": {},
   "outputs": [],
   "source": [
    "Encoder = LabelEncoder()\n",
    "Train_Y = Encoder.fit_transform(Train_Y)\n",
    "Test_Y = Encoder.fit_transform(Test_Y)"
   ]
  },
  {
   "cell_type": "code",
   "execution_count": 38,
   "metadata": {},
   "outputs": [
    {
     "data": {
      "text/plain": [
       "(231, 5000)"
      ]
     },
     "execution_count": 38,
     "metadata": {},
     "output_type": "execute_result"
    }
   ],
   "source": [
    "Tfidf_vect = TfidfVectorizer(max_features=5000)\n",
    "X = Tfidf_vect.fit_transform(data['Text_final'])\n",
    "tf_idf = pd.DataFrame(data = X.toarray(), columns=Tfidf_vect.get_feature_names())\n",
    "Train_X_Tfidf = Tfidf_vect.transform(Train_X)\n",
    "Test_X_Tfidf = Tfidf_vect.transform(Test_X)\n",
    "tf_idf.shape"
   ]
  },
  {
   "cell_type": "code",
   "execution_count": 49,
   "metadata": {},
   "outputs": [],
   "source": [
    "#print(Tfidf_vect.vocabulary_[:30]) # the vocabulary that it has learned from the corpus"
   ]
  },
  {
   "cell_type": "markdown",
   "metadata": {},
   "source": [
    "#### 1. Naive Bayes Classifier"
   ]
  },
  {
   "cell_type": "code",
   "execution_count": 40,
   "metadata": {},
   "outputs": [
    {
     "name": "stdout",
     "output_type": "stream",
     "text": [
      "              precision    recall  f1-score   support\n",
      "\n",
      "           0       1.00      1.00      1.00        10\n",
      "           1       0.64      1.00      0.78        58\n",
      "           2       0.00      0.00      0.00         7\n",
      "           3       1.00      0.96      0.98        23\n",
      "           4       1.00      0.73      0.85        15\n",
      "           5       0.00      0.00      0.00         7\n",
      "           6       1.00      0.50      0.67        12\n",
      "           7       0.00      0.00      0.00         7\n",
      "\n",
      "    accuracy                           0.77       139\n",
      "   macro avg       0.58      0.52      0.53       139\n",
      "weighted avg       0.70      0.77      0.71       139\n",
      "\n"
     ]
    },
    {
     "name": "stderr",
     "output_type": "stream",
     "text": [
      "D:\\Python Programming\\Mathematical Models\\3.7.6py\\lib\\site-packages\\sklearn\\metrics\\_classification.py:1221: UndefinedMetricWarning: Precision and F-score are ill-defined and being set to 0.0 in labels with no predicted samples. Use `zero_division` parameter to control this behavior.\n",
      "  _warn_prf(average, modifier, msg_start, len(result))\n"
     ]
    }
   ],
   "source": [
    "# fit the training dataset on the NB classifier\n",
    "Naive = naive_bayes.MultinomialNB()\n",
    "naive = Naive.fit(Train_X_Tfidf,Train_Y)\n",
    "predictions = Naive.predict(Test_X_Tfidf)\n",
    "predictions_NB = Naive.predict(tf_idf)\n",
    "\n",
    "data['NaiveBayes'] = predictions_NB\n",
    "print(metrics.classification_report(Test_Y, predictions))\n"
   ]
  },
  {
   "cell_type": "markdown",
   "metadata": {},
   "source": [
    "#### 2. Support Vector Machine (SVM)"
   ]
  },
  {
   "cell_type": "code",
   "execution_count": 41,
   "metadata": {},
   "outputs": [
    {
     "name": "stdout",
     "output_type": "stream",
     "text": [
      "SVM Accuracy Score ->  87.76978417266187\n",
      "              precision    recall  f1-score   support\n",
      "\n",
      "           0       1.00      1.00      1.00        10\n",
      "           1       0.81      1.00      0.89        58\n",
      "           2       1.00      0.57      0.73         7\n",
      "           3       0.88      0.96      0.92        23\n",
      "           4       1.00      0.80      0.89        15\n",
      "           5       1.00      0.29      0.44         7\n",
      "           6       1.00      0.92      0.96        12\n",
      "           7       1.00      0.43      0.60         7\n",
      "\n",
      "    accuracy                           0.88       139\n",
      "   macro avg       0.96      0.74      0.80       139\n",
      "weighted avg       0.90      0.88      0.86       139\n",
      "\n"
     ]
    }
   ],
   "source": [
    "# Classifier - Algorithm - SVM\n",
    "# fit the training dataset on the classifier\n",
    "SVM = svm.SVC(C=1.0, kernel='linear', degree=3, gamma='auto')\n",
    "SVM.fit(Train_X_Tfidf,Train_Y)\n",
    "# predict the labels on validation dataset\n",
    "predictions = SVM.predict(Test_X_Tfidf)\n",
    "# Use accuracy_score function to get the accuracy\n",
    "print(\"SVM Accuracy Score -> \",accuracy_score(predictions, Test_Y)*100)\n",
    "\n",
    "predictions_SVM = SVM.predict(tf_idf)\n",
    "print(metrics.classification_report(Test_Y, predictions))"
   ]
  },
  {
   "cell_type": "markdown",
   "metadata": {},
   "source": [
    "#### 3. Decision Tree"
   ]
  },
  {
   "cell_type": "code",
   "execution_count": 42,
   "metadata": {},
   "outputs": [
    {
     "name": "stdout",
     "output_type": "stream",
     "text": [
      "DecisionTree Accuracy Score ->  65.46762589928058\n",
      "              precision    recall  f1-score   support\n",
      "\n",
      "           0       0.39      0.70      0.50        10\n",
      "           1       0.89      1.00      0.94        58\n",
      "           2       0.38      0.43      0.40         7\n",
      "           3       0.44      0.48      0.46        23\n",
      "           4       0.75      0.20      0.32        15\n",
      "           5       0.17      0.14      0.15         7\n",
      "           6       0.62      0.42      0.50        12\n",
      "           7       0.60      0.43      0.50         7\n",
      "\n",
      "    accuracy                           0.65       139\n",
      "   macro avg       0.53      0.47      0.47       139\n",
      "weighted avg       0.67      0.65      0.64       139\n",
      "\n"
     ]
    }
   ],
   "source": [
    "clf = DecisionTreeClassifier(max_features = 'auto')\n",
    "clf = clf.fit(Train_X_Tfidf,Train_Y)\n",
    "predictions = clf.predict(Test_X_Tfidf)\n",
    "print(\"DecisionTree Accuracy Score -> \",accuracy_score(predictions, Test_Y)*100)\n",
    "\n",
    "predictions_DecTree = clf.predict(tf_idf)\n",
    "print(metrics.classification_report(Test_Y, predictions))"
   ]
  },
  {
   "cell_type": "markdown",
   "metadata": {},
   "source": [
    "#### 4. k-nearest neighbors algorithm"
   ]
  },
  {
   "cell_type": "code",
   "execution_count": 43,
   "metadata": {},
   "outputs": [
    {
     "name": "stdout",
     "output_type": "stream",
     "text": [
      "DKNeighborsClassifier Accuracy Score ->  93.5251798561151\n",
      "              precision    recall  f1-score   support\n",
      "\n",
      "           0       0.71      1.00      0.83        10\n",
      "           1       1.00      1.00      1.00        58\n",
      "           2       0.58      1.00      0.74         7\n",
      "           3       1.00      1.00      1.00        23\n",
      "           4       1.00      0.87      0.93        15\n",
      "           5       1.00      1.00      1.00         7\n",
      "           6       1.00      1.00      1.00        12\n",
      "           7       0.00      0.00      0.00         7\n",
      "\n",
      "    accuracy                           0.94       139\n",
      "   macro avg       0.79      0.86      0.81       139\n",
      "weighted avg       0.91      0.94      0.92       139\n",
      "\n"
     ]
    },
    {
     "name": "stderr",
     "output_type": "stream",
     "text": [
      "D:\\Python Programming\\Mathematical Models\\3.7.6py\\lib\\site-packages\\sklearn\\metrics\\_classification.py:1221: UndefinedMetricWarning: Precision and F-score are ill-defined and being set to 0.0 in labels with no predicted samples. Use `zero_division` parameter to control this behavior.\n",
      "  _warn_prf(average, modifier, msg_start, len(result))\n"
     ]
    }
   ],
   "source": [
    "knn = KNeighborsClassifier(n_neighbors=5, metric='euclidean')\n",
    "knn = knn.fit(Train_X_Tfidf,Train_Y)\n",
    "predictions = knn.predict(Test_X_Tfidf)\n",
    "print(\"DKNeighborsClassifier Accuracy Score -> \",accuracy_score(predictions, Test_Y)*100)\n",
    "\n",
    "predictions_KNeighbour = knn.predict(tf_idf)\n",
    "print(metrics.classification_report(Test_Y, predictions))"
   ]
  },
  {
   "cell_type": "markdown",
   "metadata": {},
   "source": [
    "#### 5. ROCCIO"
   ]
  },
  {
   "cell_type": "code",
   "execution_count": 44,
   "metadata": {},
   "outputs": [
    {
     "name": "stdout",
     "output_type": "stream",
     "text": [
      "DKNeighborsClassifier Accuracy Score ->  91.36690647482014\n",
      "              precision    recall  f1-score   support\n",
      "\n",
      "           0       1.00      1.00      1.00        10\n",
      "           1       0.84      1.00      0.91        58\n",
      "           2       1.00      0.57      0.73         7\n",
      "           3       1.00      0.96      0.98        23\n",
      "           4       1.00      0.80      0.89        15\n",
      "           5       0.83      0.71      0.77         7\n",
      "           6       1.00      0.92      0.96        12\n",
      "           7       1.00      0.71      0.83         7\n",
      "\n",
      "    accuracy                           0.91       139\n",
      "   macro avg       0.96      0.83      0.88       139\n",
      "weighted avg       0.93      0.91      0.91       139\n",
      "\n"
     ]
    }
   ],
   "source": [
    "roccio = NearestCentroid()\n",
    "roccio.fit(Train_X_Tfidf,Train_Y)\n",
    "predictions = roccio.predict(Test_X_Tfidf)\n",
    "print(\"DKNeighborsClassifier Accuracy Score -> \",accuracy_score(predictions, Test_Y)*100)\n",
    "\n",
    "predictions_Roccio = roccio.predict(tf_idf)\n",
    "print(metrics.classification_report(Test_Y, predictions))"
   ]
  },
  {
   "cell_type": "code",
   "execution_count": 45,
   "metadata": {},
   "outputs": [],
   "source": [
    "# Write down the results of each algorithm predictions\n",
    "data['NaiveBayes'] = predictions_NB\n",
    "data['SVM'] = predictions_SVM\n",
    "data['DecisionTree'] = predictions_DecTree\n",
    "data['KNeigbors'] = predictions_KNeighbour\n",
    "data[\"Roccio\"] = predictions_Roccio"
   ]
  },
  {
   "cell_type": "code",
   "execution_count": 46,
   "metadata": {},
   "outputs": [
    {
     "data": {
      "text/html": [
       "<div>\n",
       "<style scoped>\n",
       "    .dataframe tbody tr th:only-of-type {\n",
       "        vertical-align: middle;\n",
       "    }\n",
       "\n",
       "    .dataframe tbody tr th {\n",
       "        vertical-align: top;\n",
       "    }\n",
       "\n",
       "    .dataframe thead th {\n",
       "        text-align: right;\n",
       "    }\n",
       "</style>\n",
       "<table border=\"1\" class=\"dataframe\">\n",
       "  <thead>\n",
       "    <tr style=\"text-align: right;\">\n",
       "      <th></th>\n",
       "      <th>Number</th>\n",
       "      <th>Text</th>\n",
       "      <th>FileName</th>\n",
       "      <th>Label</th>\n",
       "      <th>Text_final</th>\n",
       "      <th>NaiveBayes</th>\n",
       "      <th>SVM</th>\n",
       "      <th>DecisionTree</th>\n",
       "      <th>KNeigbors</th>\n",
       "      <th>Roccio</th>\n",
       "    </tr>\n",
       "  </thead>\n",
       "  <tbody>\n",
       "    <tr>\n",
       "      <th>115</th>\n",
       "      <td>116</td>\n",
       "      <td>место бывший ризница пенс старое деньга и зарж...</td>\n",
       "      <td>children_95.txt</td>\n",
       "      <td>children</td>\n",
       "      <td>место бывший ризница пенс старое деньга заржав...</td>\n",
       "      <td>1</td>\n",
       "      <td>1</td>\n",
       "      <td>1</td>\n",
       "      <td>1</td>\n",
       "      <td>1</td>\n",
       "    </tr>\n",
       "    <tr>\n",
       "      <th>116</th>\n",
       "      <td>117</td>\n",
       "      <td>или оглушать шум человеческий деятельность моч...</td>\n",
       "      <td>children_96.txt</td>\n",
       "      <td>children</td>\n",
       "      <td>оглушать шум человеческий деятельность мочь во...</td>\n",
       "      <td>1</td>\n",
       "      <td>1</td>\n",
       "      <td>1</td>\n",
       "      <td>1</td>\n",
       "      <td>1</td>\n",
       "    </tr>\n",
       "    <tr>\n",
       "      <th>117</th>\n",
       "      <td>118</td>\n",
       "      <td>и множество другой звук что такой случиться в ...</td>\n",
       "      <td>children_97.txt</td>\n",
       "      <td>children</td>\n",
       "      <td>множество звук случиться мир почему весь пошло...</td>\n",
       "      <td>1</td>\n",
       "      <td>1</td>\n",
       "      <td>1</td>\n",
       "      <td>1</td>\n",
       "      <td>1</td>\n",
       "    </tr>\n",
       "    <tr>\n",
       "      <th>118</th>\n",
       "      <td>119</td>\n",
       "      <td>в состав береговой авиация береговой авиация… ...</td>\n",
       "      <td>children_98.txt</td>\n",
       "      <td>children</td>\n",
       "      <td>состав береговой авиация береговой берег неред...</td>\n",
       "      <td>1</td>\n",
       "      <td>1</td>\n",
       "      <td>1</td>\n",
       "      <td>1</td>\n",
       "      <td>1</td>\n",
       "    </tr>\n",
       "    <tr>\n",
       "      <th>119</th>\n",
       "      <td>120</td>\n",
       "      <td>увидеть а потом уже услышать когда она наговор...</td>\n",
       "      <td>children_99.txt</td>\n",
       "      <td>children</td>\n",
       "      <td>увидеть услышать наговорить губа шевелиться го...</td>\n",
       "      <td>1</td>\n",
       "      <td>1</td>\n",
       "      <td>1</td>\n",
       "      <td>1</td>\n",
       "      <td>1</td>\n",
       "    </tr>\n",
       "    <tr>\n",
       "      <th>120</th>\n",
       "      <td>121</td>\n",
       "      <td>Константин Хабенский, Сергей Безруков, Елизаве...</td>\n",
       "      <td>cinema_1.txt</td>\n",
       "      <td>cinema</td>\n",
       "      <td>константин хабенский сергей безруков елизавета...</td>\n",
       "      <td>1</td>\n",
       "      <td>2</td>\n",
       "      <td>6</td>\n",
       "      <td>2</td>\n",
       "      <td>2</td>\n",
       "    </tr>\n",
       "    <tr>\n",
       "      <th>121</th>\n",
       "      <td>122</td>\n",
       "      <td>Сначала я удивлялась и восхищалась умению и из...</td>\n",
       "      <td>cinema_10.txt</td>\n",
       "      <td>cinema</td>\n",
       "      <td>сначала удивлялась восхищалась умению изобрета...</td>\n",
       "      <td>1</td>\n",
       "      <td>2</td>\n",
       "      <td>0</td>\n",
       "      <td>2</td>\n",
       "      <td>2</td>\n",
       "    </tr>\n",
       "    <tr>\n",
       "      <th>122</th>\n",
       "      <td>123</td>\n",
       "      <td>Луч света в царстве тьмы   При просмотре фильм...</td>\n",
       "      <td>cinema_2.txt</td>\n",
       "      <td>cinema</td>\n",
       "      <td>луч света царстве тьмы просмотре фильма ирония...</td>\n",
       "      <td>1</td>\n",
       "      <td>1</td>\n",
       "      <td>5</td>\n",
       "      <td>2</td>\n",
       "      <td>1</td>\n",
       "    </tr>\n",
       "    <tr>\n",
       "      <th>123</th>\n",
       "      <td>124</td>\n",
       "      <td>Степанов Сергей31 декабря 2019, 11:30   Уважае...</td>\n",
       "      <td>cinema_3.txt</td>\n",
       "      <td>cinema</td>\n",
       "      <td>степанов декабря уважаемому честному автору ог...</td>\n",
       "      <td>1</td>\n",
       "      <td>2</td>\n",
       "      <td>2</td>\n",
       "      <td>2</td>\n",
       "      <td>2</td>\n",
       "    </tr>\n",
       "    <tr>\n",
       "      <th>124</th>\n",
       "      <td>125</td>\n",
       "      <td>Хип-хоп. Музыка как соединение культур   Хип-х...</td>\n",
       "      <td>cinema_4.txt</td>\n",
       "      <td>cinema</td>\n",
       "      <td>музыка соединение культур зародившийся году юж...</td>\n",
       "      <td>1</td>\n",
       "      <td>2</td>\n",
       "      <td>2</td>\n",
       "      <td>2</td>\n",
       "      <td>2</td>\n",
       "    </tr>\n",
       "  </tbody>\n",
       "</table>\n",
       "</div>"
      ],
      "text/plain": [
       "     Number                                               Text  \\\n",
       "115     116  место бывший ризница пенс старое деньга и зарж...   \n",
       "116     117  или оглушать шум человеческий деятельность моч...   \n",
       "117     118  и множество другой звук что такой случиться в ...   \n",
       "118     119  в состав береговой авиация береговой авиация… ...   \n",
       "119     120  увидеть а потом уже услышать когда она наговор...   \n",
       "120     121  Константин Хабенский, Сергей Безруков, Елизаве...   \n",
       "121     122  Сначала я удивлялась и восхищалась умению и из...   \n",
       "122     123  Луч света в царстве тьмы   При просмотре фильм...   \n",
       "123     124  Степанов Сергей31 декабря 2019, 11:30   Уважае...   \n",
       "124     125  Хип-хоп. Музыка как соединение культур   Хип-х...   \n",
       "\n",
       "            FileName     Label  \\\n",
       "115  children_95.txt  children   \n",
       "116  children_96.txt  children   \n",
       "117  children_97.txt  children   \n",
       "118  children_98.txt  children   \n",
       "119  children_99.txt  children   \n",
       "120     cinema_1.txt    cinema   \n",
       "121    cinema_10.txt    cinema   \n",
       "122     cinema_2.txt    cinema   \n",
       "123     cinema_3.txt    cinema   \n",
       "124     cinema_4.txt    cinema   \n",
       "\n",
       "                                            Text_final  NaiveBayes  SVM  \\\n",
       "115  место бывший ризница пенс старое деньга заржав...           1    1   \n",
       "116  оглушать шум человеческий деятельность мочь во...           1    1   \n",
       "117  множество звук случиться мир почему весь пошло...           1    1   \n",
       "118  состав береговой авиация береговой берег неред...           1    1   \n",
       "119  увидеть услышать наговорить губа шевелиться го...           1    1   \n",
       "120  константин хабенский сергей безруков елизавета...           1    2   \n",
       "121  сначала удивлялась восхищалась умению изобрета...           1    2   \n",
       "122  луч света царстве тьмы просмотре фильма ирония...           1    1   \n",
       "123  степанов декабря уважаемому честному автору ог...           1    2   \n",
       "124  музыка соединение культур зародившийся году юж...           1    2   \n",
       "\n",
       "     DecisionTree  KNeigbors  Roccio  \n",
       "115             1          1       1  \n",
       "116             1          1       1  \n",
       "117             1          1       1  \n",
       "118             1          1       1  \n",
       "119             1          1       1  \n",
       "120             6          2       2  \n",
       "121             0          2       2  \n",
       "122             5          2       1  \n",
       "123             2          2       2  \n",
       "124             2          2       2  "
      ]
     },
     "execution_count": 46,
     "metadata": {},
     "output_type": "execute_result"
    }
   ],
   "source": [
    "data[115:125]"
   ]
  },
  {
   "cell_type": "code",
   "execution_count": 47,
   "metadata": {},
   "outputs": [
    {
     "data": {
      "text/plain": [
       "Text(0, 0.5, 'Predicted label')"
      ]
     },
     "execution_count": 47,
     "metadata": {},
     "output_type": "execute_result"
    },
    {
     "data": {
      "image/png": "[encoded data removed]",
      "text/plain": [
       "<Figure size 1728x792 with 5 Axes>"
      ]
     },
     "metadata": {
      "needs_background": "light"
     },
     "output_type": "display_data"
    }
   ],
   "source": [
    "fig = plt.figure(figsize=(24, 11))\n",
    "spec = mpl.gridspec.GridSpec(ncols=3, nrows=2)\n",
    "\n",
    "ax1 = fig.add_subplot(spec[0,0])\n",
    "ax2 = fig.add_subplot(spec[0,1])\n",
    "ax3 = fig.add_subplot(spec[0,2])\n",
    "ax4 = fig.add_subplot(spec[1,0])\n",
    "ax5 = fig.add_subplot(spec[1,2])\n",
    "\n",
    "ax1.scatter(data['Label'], data['NaiveBayes'], color='red')\n",
    "ax2.scatter(data['Label'], data['SVM'], color='purple')\n",
    "ax3.scatter(data['Label'], data['DecisionTree'], color='orange')\n",
    "ax4.scatter(data['Label'], data['KNeigbors'], color = 'green')\n",
    "ax5.scatter(data['Label'], data['Roccio'], color = 'blue')\n",
    "\n",
    "# set a title and labels\n",
    "ax1.set_title('Classification by NAIVE BAYES')\n",
    "ax1.set_xlabel('True label')\n",
    "ax1.set_ylabel('Predicted label')\n",
    "\n",
    "ax2.set_title('Classification by SVM')\n",
    "ax2.set_xlabel('True label')\n",
    "ax2.set_ylabel('Predicted label')\n",
    "\n",
    "ax3.set_title('Classification by DECISION TREE method')\n",
    "ax3.set_xlabel('True label')\n",
    "ax3.set_ylabel('Predicted label')\n",
    "\n",
    "ax4.set_title('Classification by K-NEAREST Neigbors method')\n",
    "ax4.set_xlabel('True label')\n",
    "ax4.set_ylabel('Predicted label')\n",
    "\n",
    "ax5.set_title('Classification by ROCCIO method')\n",
    "ax5.set_xlabel('True label')\n",
    "ax5.set_ylabel('Predicted label')"
   ]
  }
 ],
 "metadata": {
  "kernelspec": {
   "display_name": "3.7.6py",
   "language": "python",
   "name": "myenv"
  },
  "language_info": {
   "codemirror_mode": {
    "name": "ipython",
    "version": 3
   },
   "file_extension": ".py",
   "mimetype": "text/x-python",
   "name": "python",
   "nbconvert_exporter": "python",
   "pygments_lexer": "ipython3",
   "version": "3.7.6"
  }
 },
 "nbformat": 4,
 "nbformat_minor": 4
}
